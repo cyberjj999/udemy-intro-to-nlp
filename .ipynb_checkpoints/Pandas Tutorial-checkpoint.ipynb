{
 "cells": [
  {
   "cell_type": "markdown",
   "id": "c6f4d242",
   "metadata": {},
   "source": [
    "# Tutorial Series — Data Analysis with Python - Full Course for Beginners (Numpy, Pandas, Matplotlib, Seaborn)\n",
    "Source: https://www.youtube.com/watch?v=r-uOLxNrNk8"
   ]
  },
  {
   "cell_type": "markdown",
   "id": "d34cec07",
   "metadata": {},
   "source": [
    "## About Pandas (practical starts at 1:57:14)\n",
    "- Pandas is one of the most essential part of data analysis because it is used to format/group/sort data you extracted from numerous sources. It is also used to generate reports and for machine learning etc.\n",
    "- There are 2 core concepts about Pandas that you should know.\n",
    "- That is `Series` and `Dataframe`\n"
   ]
  },
  {
   "cell_type": "code",
   "execution_count": 1,
   "id": "ef8ab582",
   "metadata": {},
   "outputs": [],
   "source": [
    "import pandas as pd\n",
    "import numpy as np # we will use numpy for some of our pandas examples"
   ]
  },
  {
   "cell_type": "markdown",
   "id": "2485e285",
   "metadata": {
    "tags": []
   },
   "source": [
    "## Panda Series"
   ]
  },
  {
   "cell_type": "markdown",
   "id": "a06fe4a6",
   "metadata": {},
   "source": [
    "### Series vs List"
   ]
  },
  {
   "cell_type": "markdown",
   "id": "d9e5b3b6",
   "metadata": {},
   "source": [
    "**Defining A Normal List**"
   ]
  },
  {
   "cell_type": "code",
   "execution_count": 2,
   "id": "eb1c7908",
   "metadata": {},
   "outputs": [
    {
     "data": {
      "text/plain": [
       "[1, 2, 3, 4, 5, 6, 7]"
      ]
     },
     "execution_count": 2,
     "metadata": {},
     "output_type": "execute_result"
    }
   ],
   "source": [
    "my_list = [1,2,3,4,5,6,7]\n",
    "my_list"
   ]
  },
  {
   "cell_type": "markdown",
   "id": "7e5708ab-d4b5-4963-9d24-e62dbbb5fc9b",
   "metadata": {},
   "source": [
    "**Defining A Panda Series**"
   ]
  },
  {
   "cell_type": "code",
   "execution_count": 3,
   "id": "86ac8e36",
   "metadata": {},
   "outputs": [
    {
     "data": {
      "text/plain": [
       "0    1\n",
       "1    2\n",
       "2    3\n",
       "3    4\n",
       "4    5\n",
       "5    6\n",
       "6    7\n",
       "dtype: int64"
      ]
     },
     "execution_count": 3,
     "metadata": {},
     "output_type": "execute_result"
    }
   ],
   "source": [
    "my_series = pd.Series([1, 2, 3, 4, 5, 6, 7])\n",
    "my_series"
   ]
  },
  {
   "cell_type": "markdown",
   "id": "d9018d5b",
   "metadata": {},
   "source": [
    "**Similarity 1.** Both Panda Series and Python List has indexes. \n",
    "- BUT, for Panda Series, you can change the index value like a dictionary — see **Difference 3**"
   ]
  },
  {
   "cell_type": "code",
   "execution_count": 4,
   "id": "7b4159f2",
   "metadata": {},
   "outputs": [
    {
     "data": {
      "text/plain": [
       "1"
      ]
     },
     "execution_count": 4,
     "metadata": {},
     "output_type": "execute_result"
    }
   ],
   "source": [
    "my_list[0]"
   ]
  },
  {
   "cell_type": "code",
   "execution_count": 5,
   "id": "72d1e547",
   "metadata": {},
   "outputs": [
    {
     "data": {
      "text/plain": [
       "[100, 2, 3, 4, 5, 6, 7]"
      ]
     },
     "execution_count": 5,
     "metadata": {},
     "output_type": "execute_result"
    }
   ],
   "source": [
    "my_list[0] = 100\n",
    "my_list"
   ]
  },
  {
   "cell_type": "code",
   "execution_count": 6,
   "id": "d79889a6",
   "metadata": {},
   "outputs": [
    {
     "data": {
      "text/plain": [
       "1"
      ]
     },
     "execution_count": 6,
     "metadata": {},
     "output_type": "execute_result"
    }
   ],
   "source": [
    "my_series[0]"
   ]
  },
  {
   "cell_type": "code",
   "execution_count": 7,
   "id": "5205b640",
   "metadata": {},
   "outputs": [
    {
     "data": {
      "text/plain": [
       "0    100\n",
       "1      2\n",
       "2      3\n",
       "3      4\n",
       "4      5\n",
       "5      6\n",
       "6      7\n",
       "dtype: int64"
      ]
     },
     "execution_count": 7,
     "metadata": {},
     "output_type": "execute_result"
    }
   ],
   "source": [
    "my_series[0] = 100\n",
    "my_series"
   ]
  },
  {
   "cell_type": "markdown",
   "id": "8a63c9b0",
   "metadata": {},
   "source": [
    "**Difference 1.** Panda Series has datatype because they are actually backed by numpy arrays."
   ]
  },
  {
   "cell_type": "code",
   "execution_count": 5,
   "id": "99392973",
   "metadata": {},
   "outputs": [
    {
     "data": {
      "text/plain": [
       "dtype('int64')"
      ]
     },
     "execution_count": 5,
     "metadata": {},
     "output_type": "execute_result"
    }
   ],
   "source": [
    "# Series.dtype — return the dtype object of the underlying data.\n",
    "my_series.dtype"
   ]
  },
  {
   "cell_type": "code",
   "execution_count": 9,
   "id": "d23009f2",
   "metadata": {},
   "outputs": [
    {
     "data": {
      "text/plain": [
       "array([1, 2, 3, 4, 5, 6, 7])"
      ]
     },
     "execution_count": 9,
     "metadata": {},
     "output_type": "execute_result"
    }
   ],
   "source": [
    "my_numpy = np.array([1,2,3,4,5,6,7])\n",
    "my_numpy"
   ]
  },
  {
   "cell_type": "code",
   "execution_count": 10,
   "id": "f01c069c",
   "metadata": {
    "scrolled": true
   },
   "outputs": [
    {
     "data": {
      "text/plain": [
       "array([100,   2,   3,   4,   5,   6,   7], dtype=int64)"
      ]
     },
     "execution_count": 10,
     "metadata": {},
     "output_type": "execute_result"
    }
   ],
   "source": [
    "my_series.values"
   ]
  },
  {
   "cell_type": "code",
   "execution_count": 11,
   "id": "6f9b54b9",
   "metadata": {},
   "outputs": [
    {
     "data": {
      "text/plain": [
       "numpy.ndarray"
      ]
     },
     "execution_count": 11,
     "metadata": {},
     "output_type": "execute_result"
    }
   ],
   "source": [
    "type(my_series.values)"
   ]
  },
  {
   "cell_type": "markdown",
   "id": "13f68ebf",
   "metadata": {},
   "source": [
    "**Difference 2.** Panda Series has a name\n",
    "- The name will make much more sense when you see it being used in a pandas dataframe"
   ]
  },
  {
   "cell_type": "code",
   "execution_count": 12,
   "id": "95230cfe",
   "metadata": {},
   "outputs": [
    {
     "data": {
      "text/plain": [
       "0    100\n",
       "1      2\n",
       "2      3\n",
       "3      4\n",
       "4      5\n",
       "5      6\n",
       "6      7\n",
       "Name: The 7 numbers, dtype: int64"
      ]
     },
     "execution_count": 12,
     "metadata": {},
     "output_type": "execute_result"
    }
   ],
   "source": [
    "my_series.name = \"The 7 numbers\"\n",
    "my_series"
   ]
  },
  {
   "cell_type": "markdown",
   "id": "3b1bc637",
   "metadata": {},
   "source": [
    "**Difference 3.** You can change the index of a Panda Series\n",
    "- Now we can access each element by name instead of index\n",
    "- You may also realize this now look more like a ordered dictionary than a list.\n",
    "- After you change the index to i.e. strings, you can still access them in order, i.e. using my_series.iloc[0] etc. (see below)"
   ]
  },
  {
   "cell_type": "markdown",
   "id": "5a000cdc",
   "metadata": {},
   "source": [
    "Update: \n",
    "- Using `my_series.index` feels like this is the wrong way to do indexing (the order is fucked for some reasons). \n",
    "- For example, `Num of Apple` won't be the index of the first value here (for some reasons)\n",
    "- The solution is to use `pandas.Series.set_axis` (see below)"
   ]
  },
  {
   "cell_type": "code",
   "execution_count": 6,
   "id": "0d5e6db0",
   "metadata": {
    "scrolled": true
   },
   "outputs": [
    {
     "data": {
      "text/plain": [
       "Num of Donut      1\n",
       "Num of Eclair     2\n",
       "Num of Gracker    3\n",
       "Num of Frosty     4\n",
       "Num of Candy      5\n",
       "Num of Apple      6\n",
       "Num of Banana     7\n",
       "dtype: int64"
      ]
     },
     "execution_count": 6,
     "metadata": {},
     "output_type": "execute_result"
    }
   ],
   "source": [
    "my_series.index = {\n",
    "    \"Num of Apple\",\n",
    "    \"Num of Banana\",\n",
    "    \"Num of Candy\",\n",
    "    \"Num of Donut\",\n",
    "    \"Num of Eclair\",\n",
    "    \"Num of Frosty\",\n",
    "    \"Num of Gracker\",\n",
    "}\n",
    "my_series"
   ]
  },
  {
   "cell_type": "markdown",
   "id": "10cff4c3",
   "metadata": {},
   "source": [
    "I found a stackoverflow that suggests people to use `pandas.Series.set_axis` so that may be more ideal\n",
    "See: https://pandas.pydata.org/docs/reference/api/pandas.Series.set_axis.html"
   ]
  },
  {
   "cell_type": "code",
   "execution_count": 14,
   "id": "b0dc34ef",
   "metadata": {},
   "outputs": [
    {
     "data": {
      "text/plain": [
       "Num of Apple      100\n",
       "Num of Banana       2\n",
       "Num of Candy        3\n",
       "Num of Donut        4\n",
       "Num of Eclair       5\n",
       "Num of Frosty       6\n",
       "Num of Gracker      7\n",
       "Name: The 7 numbers, dtype: int64"
      ]
     },
     "execution_count": 14,
     "metadata": {},
     "output_type": "execute_result"
    }
   ],
   "source": [
    "my_series = my_series.set_axis(['Num of Apple', 'Num of Banana', 'Num of Candy', 'Num of Donut', 'Num of Eclair', 'Num of Frosty', 'Num of Gracker'], axis=0)\n",
    "\n",
    "my_series"
   ]
  },
  {
   "cell_type": "markdown",
   "id": "c9cd802a",
   "metadata": {},
   "source": [
    "**Accessing A Value by Index**"
   ]
  },
  {
   "cell_type": "code",
   "execution_count": 15,
   "id": "2b18ec04",
   "metadata": {},
   "outputs": [
    {
     "data": {
      "text/plain": [
       "3"
      ]
     },
     "execution_count": 15,
     "metadata": {},
     "output_type": "execute_result"
    }
   ],
   "source": [
    "my_series[\"Num of Candy\"]"
   ]
  },
  {
   "cell_type": "markdown",
   "id": "4a8c7d57",
   "metadata": {},
   "source": [
    "**Accessing A Value by Numerical Index (even after you changed the index)**"
   ]
  },
  {
   "cell_type": "code",
   "execution_count": 7,
   "id": "4115f054",
   "metadata": {},
   "outputs": [
    {
     "data": {
      "text/plain": [
       "3"
      ]
     },
     "execution_count": 7,
     "metadata": {},
     "output_type": "execute_result"
    }
   ],
   "source": [
    "# iloc — integer location — i.e. locate by sequential position\n",
    "my_series.iloc[2] # get the 3rd element, i.e. Candy in this case, which has the value 3"
   ]
  },
  {
   "cell_type": "code",
   "execution_count": 8,
   "id": "5a43ddec",
   "metadata": {},
   "outputs": [
    {
     "data": {
      "text/plain": [
       "7"
      ]
     },
     "execution_count": 8,
     "metadata": {},
     "output_type": "execute_result"
    }
   ],
   "source": [
    "# iloc — integer location — i.e. locate by sequential position\n",
    "my_series.iloc[-1] # get the last element"
   ]
  },
  {
   "cell_type": "markdown",
   "id": "246f2589",
   "metadata": {},
   "source": [
    "**Difference 4.** Panda Series supports multi indicies (just like numpy), unlike list\n",
    "- In other words, I can extract specific parts of a series into another series."
   ]
  },
  {
   "cell_type": "code",
   "execution_count": 18,
   "id": "7da71ca8",
   "metadata": {},
   "outputs": [
    {
     "data": {
      "text/plain": [
       "Num of Donut     4\n",
       "Num of Banana    2\n",
       "Name: The 7 numbers, dtype: int64"
      ]
     },
     "execution_count": 18,
     "metadata": {},
     "output_type": "execute_result"
    }
   ],
   "source": [
    "donut_and_banana = my_series[[\"Num of Donut\", \"Num of Banana\"]]\n",
    "donut_and_banana"
   ]
  },
  {
   "cell_type": "markdown",
   "id": "e5fb963f",
   "metadata": {},
   "source": [
    "**—— It returns a series datatype**"
   ]
  },
  {
   "cell_type": "code",
   "execution_count": 19,
   "id": "293cc92a",
   "metadata": {},
   "outputs": [
    {
     "data": {
      "text/plain": [
       "pandas.core.series.Series"
      ]
     },
     "execution_count": 19,
     "metadata": {},
     "output_type": "execute_result"
    }
   ],
   "source": [
    "type(donut_and_banana)"
   ]
  },
  {
   "cell_type": "markdown",
   "id": "5f1f571e",
   "metadata": {},
   "source": [
    "**Difference 5.** Panda Series slicing includes the upper limit"
   ]
  },
  {
   "cell_type": "code",
   "execution_count": 20,
   "id": "0e1793b4",
   "metadata": {},
   "outputs": [
    {
     "data": {
      "text/plain": [
       "[100, 2]"
      ]
     },
     "execution_count": 20,
     "metadata": {},
     "output_type": "execute_result"
    }
   ],
   "source": [
    "my_list[0:2] # get element 0 and 1 (upper limit which is 2 is not included)"
   ]
  },
  {
   "cell_type": "markdown",
   "id": "11c8523b",
   "metadata": {},
   "source": [
    "**—— But it doesn't really apply to normal numerical index (lol), only if you use your own index**"
   ]
  },
  {
   "cell_type": "code",
   "execution_count": 21,
   "id": "7319e436",
   "metadata": {},
   "outputs": [
    {
     "data": {
      "text/plain": [
       "Num of Apple     100\n",
       "Num of Banana      2\n",
       "Name: The 7 numbers, dtype: int64"
      ]
     },
     "execution_count": 21,
     "metadata": {},
     "output_type": "execute_result"
    }
   ],
   "source": [
    "my_series[0:2]"
   ]
  },
  {
   "cell_type": "code",
   "execution_count": 22,
   "id": "7540cbeb",
   "metadata": {},
   "outputs": [
    {
     "data": {
      "text/plain": [
       "Num of Donut     4\n",
       "Num of Eclair    5\n",
       "Num of Frosty    6\n",
       "Name: The 7 numbers, dtype: int64"
      ]
     },
     "execution_count": 22,
     "metadata": {},
     "output_type": "execute_result"
    }
   ],
   "source": [
    "my_series[\"Num of Donut\": \"Num of Frosty\"] # get element 0, 1, 2 (upper limit is included)"
   ]
  },
  {
   "cell_type": "markdown",
   "id": "a15251be",
   "metadata": {},
   "source": [
    "**Defining A Panda Series (with many variables)**"
   ]
  },
  {
   "cell_type": "code",
   "execution_count": 23,
   "id": "73f04a96",
   "metadata": {},
   "outputs": [
    {
     "data": {
      "text/plain": [
       "Num of Apple       2\n",
       "Num of Banana      4\n",
       "Num of Candy       6\n",
       "Num of Donut       8\n",
       "Num of Eclair     10\n",
       "Num of Frosty     12\n",
       "Num of Gracker    14\n",
       "Name: My 7 Numbers, dtype: int64"
      ]
     },
     "execution_count": 23,
     "metadata": {},
     "output_type": "execute_result"
    }
   ],
   "source": [
    "my_series_2 = pd.Series({\n",
    "    \"Num of Apple\": 2,\n",
    "    \"Num of Banana\": 4,\n",
    "    \"Num of Candy\": 6,\n",
    "    \"Num of Donut\": 8,\n",
    "    \"Num of Eclair\": 10,\n",
    "    \"Num of Frosty\": 12,\n",
    "    \"Num of Gracker\": 14\n",
    "}, name = \"My 7 Numbers\")\n",
    "\n",
    "my_series_2"
   ]
  },
  {
   "cell_type": "code",
   "execution_count": 24,
   "id": "9f4523aa",
   "metadata": {
    "scrolled": true
   },
   "outputs": [
    {
     "data": {
      "text/plain": [
       "Apple       2\n",
       "Banana      4\n",
       "Candy       6\n",
       "Donut       8\n",
       "Eclair     10\n",
       "Frosty     12\n",
       "Gracker    14\n",
       "Name: The 7 Numbers, dtype: int64"
      ]
     },
     "execution_count": 24,
     "metadata": {},
     "output_type": "execute_result"
    }
   ],
   "source": [
    "my_series_3 = pd.Series(\n",
    "    [2, 4, 6, 8, 10, 12, 14],\n",
    "    index=[\"Apple\", \"Banana\", \"Candy\", \"Donut\", \"Eclair\", \"Frosty\", \"Gracker\"],\n",
    "    name = \"The 7 Numbers\"\n",
    ")\n",
    "\n",
    "my_series_3"
   ]
  },
  {
   "cell_type": "markdown",
   "id": "9eea20df",
   "metadata": {
    "jp-MarkdownHeadingCollapsed": true,
    "tags": []
   },
   "source": [
    "### A Summary of Pandas Series\n",
    "\n",
    "it's a ordered sequence of elements, backed by a NumPy array (and thus it is very fast and efficient) \n",
    "It also has an index that can take any labels we pass, and thus it is very good for indexing too.\n",
    "\n",
    "P.S. I stopped tutorial for Pandas Series at 2:09:10 because the rest not v useful atm"
   ]
  },
  {
   "cell_type": "markdown",
   "id": "5e5a3571",
   "metadata": {
    "tags": []
   },
   "source": [
    "## Started Pandas Dataframe from 2:15:00"
   ]
  },
  {
   "attachments": {
    "32b5e0e9-986c-465e-a1da-4ee1072b02c0.png": {
     "image/png": "[encoded data removed]"
    }
   },
   "cell_type": "markdown",
   "id": "4ec40648-27de-4a21-935c-3b70241f4db5",
   "metadata": {},
   "source": [
    "![image.png](attachment:32b5e0e9-986c-465e-a1da-4ee1072b02c0.png)"
   ]
  },
  {
   "cell_type": "markdown",
   "id": "2e081cf9",
   "metadata": {},
   "source": [
    "Creating `DataFrame`s manually can be tedious. 99% of the time you'll be pulling the data from a Database, a csv file or the web. But still, you can create a DataFrame by specifying the columns and values:\n"
   ]
  },
  {
   "cell_type": "code",
   "execution_count": 25,
   "id": "1a4fba4a",
   "metadata": {
    "tags": []
   },
   "outputs": [],
   "source": [
    "df = pd.DataFrame({\n",
    "    'Population': [35.467, 63.951, 80.94 , 60.665, 127.061, 64.511, 318.523],\n",
    "    'GDP': [\n",
    "        1785387,\n",
    "        2833687,\n",
    "        3874437,\n",
    "        2167744,\n",
    "        4602367,\n",
    "        2950039,\n",
    "        17348075\n",
    "    ],\n",
    "    'Surface Area': [\n",
    "        9984670,\n",
    "        640679,\n",
    "        357114,\n",
    "        301336,\n",
    "        377930,\n",
    "        242495,\n",
    "        9525067\n",
    "    ],\n",
    "    'HDI': [\n",
    "        0.913,\n",
    "        0.888,\n",
    "        0.916,\n",
    "        0.873,\n",
    "        0.891,\n",
    "        0.907,\n",
    "        0.915\n",
    "    ],\n",
    "    'Continent': [\n",
    "        'America',\n",
    "        'Europe',\n",
    "        'Europe',\n",
    "        'Europe',\n",
    "        'Asia',\n",
    "        'Europe',\n",
    "        'America'\n",
    "    ]\n",
    "}, columns=['Population', 'GDP', 'Surface Area', 'HDI', 'Continent'])\n",
    "# (The columns attribute is optional. I'm using it to keep the same order as in the picture above)"
   ]
  },
  {
   "cell_type": "markdown",
   "id": "6337fb35-1104-41c0-bc6e-4e145bc8a680",
   "metadata": {},
   "source": [
    "**A dataframe is very similar to an excel table**\n",
    "\n",
    "- **Question:** How does dataframe relate to series?\n",
    "- **Answer:** Each column of dataframe is a series. This means that there are a total of FIVE Pandas series below"
   ]
  },
  {
   "cell_type": "code",
   "execution_count": 26,
   "id": "55aa0d8a-e91d-4ad9-a2c3-71500b5cec78",
   "metadata": {},
   "outputs": [
    {
     "data": {
      "text/html": [
       "<div>\n",
       "<style scoped>\n",
       "    .dataframe tbody tr th:only-of-type {\n",
       "        vertical-align: middle;\n",
       "    }\n",
       "\n",
       "    .dataframe tbody tr th {\n",
       "        vertical-align: top;\n",
       "    }\n",
       "\n",
       "    .dataframe thead th {\n",
       "        text-align: right;\n",
       "    }\n",
       "</style>\n",
       "<table border=\"1\" class=\"dataframe\">\n",
       "  <thead>\n",
       "    <tr style=\"text-align: right;\">\n",
       "      <th></th>\n",
       "      <th>Population</th>\n",
       "      <th>GDP</th>\n",
       "      <th>Surface Area</th>\n",
       "      <th>HDI</th>\n",
       "      <th>Continent</th>\n",
       "    </tr>\n",
       "  </thead>\n",
       "  <tbody>\n",
       "    <tr>\n",
       "      <th>0</th>\n",
       "      <td>35.467</td>\n",
       "      <td>1785387</td>\n",
       "      <td>9984670</td>\n",
       "      <td>0.913</td>\n",
       "      <td>America</td>\n",
       "    </tr>\n",
       "    <tr>\n",
       "      <th>1</th>\n",
       "      <td>63.951</td>\n",
       "      <td>2833687</td>\n",
       "      <td>640679</td>\n",
       "      <td>0.888</td>\n",
       "      <td>Europe</td>\n",
       "    </tr>\n",
       "    <tr>\n",
       "      <th>2</th>\n",
       "      <td>80.940</td>\n",
       "      <td>3874437</td>\n",
       "      <td>357114</td>\n",
       "      <td>0.916</td>\n",
       "      <td>Europe</td>\n",
       "    </tr>\n",
       "    <tr>\n",
       "      <th>3</th>\n",
       "      <td>60.665</td>\n",
       "      <td>2167744</td>\n",
       "      <td>301336</td>\n",
       "      <td>0.873</td>\n",
       "      <td>Europe</td>\n",
       "    </tr>\n",
       "    <tr>\n",
       "      <th>4</th>\n",
       "      <td>127.061</td>\n",
       "      <td>4602367</td>\n",
       "      <td>377930</td>\n",
       "      <td>0.891</td>\n",
       "      <td>Asia</td>\n",
       "    </tr>\n",
       "    <tr>\n",
       "      <th>5</th>\n",
       "      <td>64.511</td>\n",
       "      <td>2950039</td>\n",
       "      <td>242495</td>\n",
       "      <td>0.907</td>\n",
       "      <td>Europe</td>\n",
       "    </tr>\n",
       "    <tr>\n",
       "      <th>6</th>\n",
       "      <td>318.523</td>\n",
       "      <td>17348075</td>\n",
       "      <td>9525067</td>\n",
       "      <td>0.915</td>\n",
       "      <td>America</td>\n",
       "    </tr>\n",
       "  </tbody>\n",
       "</table>\n",
       "</div>"
      ],
      "text/plain": [
       "   Population       GDP  Surface Area    HDI Continent\n",
       "0      35.467   1785387       9984670  0.913   America\n",
       "1      63.951   2833687        640679  0.888    Europe\n",
       "2      80.940   3874437        357114  0.916    Europe\n",
       "3      60.665   2167744        301336  0.873    Europe\n",
       "4     127.061   4602367        377930  0.891      Asia\n",
       "5      64.511   2950039        242495  0.907    Europe\n",
       "6     318.523  17348075       9525067  0.915   America"
      ]
     },
     "execution_count": 26,
     "metadata": {},
     "output_type": "execute_result"
    }
   ],
   "source": [
    "df"
   ]
  },
  {
   "cell_type": "markdown",
   "id": "d86efbee-e437-4405-a3df-33bdfabd2cd5",
   "metadata": {},
   "source": [
    "**Assigning index to dataframe (just like how you did it with series)**"
   ]
  },
  {
   "cell_type": "code",
   "execution_count": 27,
   "id": "4b2fa39c-b838-4485-97de-bfa56bea90d9",
   "metadata": {},
   "outputs": [
    {
     "data": {
      "text/html": [
       "<div>\n",
       "<style scoped>\n",
       "    .dataframe tbody tr th:only-of-type {\n",
       "        vertical-align: middle;\n",
       "    }\n",
       "\n",
       "    .dataframe tbody tr th {\n",
       "        vertical-align: top;\n",
       "    }\n",
       "\n",
       "    .dataframe thead th {\n",
       "        text-align: right;\n",
       "    }\n",
       "</style>\n",
       "<table border=\"1\" class=\"dataframe\">\n",
       "  <thead>\n",
       "    <tr style=\"text-align: right;\">\n",
       "      <th></th>\n",
       "      <th>Population</th>\n",
       "      <th>GDP</th>\n",
       "      <th>Surface Area</th>\n",
       "      <th>HDI</th>\n",
       "      <th>Continent</th>\n",
       "    </tr>\n",
       "  </thead>\n",
       "  <tbody>\n",
       "    <tr>\n",
       "      <th>Canada</th>\n",
       "      <td>35.467</td>\n",
       "      <td>1785387</td>\n",
       "      <td>9984670</td>\n",
       "      <td>0.913</td>\n",
       "      <td>America</td>\n",
       "    </tr>\n",
       "    <tr>\n",
       "      <th>France</th>\n",
       "      <td>63.951</td>\n",
       "      <td>2833687</td>\n",
       "      <td>640679</td>\n",
       "      <td>0.888</td>\n",
       "      <td>Europe</td>\n",
       "    </tr>\n",
       "    <tr>\n",
       "      <th>Germany</th>\n",
       "      <td>80.940</td>\n",
       "      <td>3874437</td>\n",
       "      <td>357114</td>\n",
       "      <td>0.916</td>\n",
       "      <td>Europe</td>\n",
       "    </tr>\n",
       "    <tr>\n",
       "      <th>Italy</th>\n",
       "      <td>60.665</td>\n",
       "      <td>2167744</td>\n",
       "      <td>301336</td>\n",
       "      <td>0.873</td>\n",
       "      <td>Europe</td>\n",
       "    </tr>\n",
       "    <tr>\n",
       "      <th>Japan</th>\n",
       "      <td>127.061</td>\n",
       "      <td>4602367</td>\n",
       "      <td>377930</td>\n",
       "      <td>0.891</td>\n",
       "      <td>Asia</td>\n",
       "    </tr>\n",
       "    <tr>\n",
       "      <th>United Kingdom</th>\n",
       "      <td>64.511</td>\n",
       "      <td>2950039</td>\n",
       "      <td>242495</td>\n",
       "      <td>0.907</td>\n",
       "      <td>Europe</td>\n",
       "    </tr>\n",
       "    <tr>\n",
       "      <th>United States</th>\n",
       "      <td>318.523</td>\n",
       "      <td>17348075</td>\n",
       "      <td>9525067</td>\n",
       "      <td>0.915</td>\n",
       "      <td>America</td>\n",
       "    </tr>\n",
       "  </tbody>\n",
       "</table>\n",
       "</div>"
      ],
      "text/plain": [
       "                Population       GDP  Surface Area    HDI Continent\n",
       "Canada              35.467   1785387       9984670  0.913   America\n",
       "France              63.951   2833687        640679  0.888    Europe\n",
       "Germany             80.940   3874437        357114  0.916    Europe\n",
       "Italy               60.665   2167744        301336  0.873    Europe\n",
       "Japan              127.061   4602367        377930  0.891      Asia\n",
       "United Kingdom      64.511   2950039        242495  0.907    Europe\n",
       "United States      318.523  17348075       9525067  0.915   America"
      ]
     },
     "execution_count": 27,
     "metadata": {},
     "output_type": "execute_result"
    }
   ],
   "source": [
    "df.index = [\n",
    "    'Canada',\n",
    "    'France',\n",
    "    'Germany',\n",
    "    'Italy',\n",
    "    'Japan',\n",
    "    'United Kingdom',\n",
    "    'United States',\n",
    "]\n",
    "df"
   ]
  },
  {
   "cell_type": "markdown",
   "id": "50616b51-b93d-4990-be31-61ff77430a81",
   "metadata": {},
   "source": [
    "**Accessing Pandas Dataframe columns**"
   ]
  },
  {
   "cell_type": "code",
   "execution_count": 28,
   "id": "2db13a6b-ef5c-4189-9306-6d48bc6b3948",
   "metadata": {},
   "outputs": [
    {
     "data": {
      "text/plain": [
       "Index(['Population', 'GDP', 'Surface Area', 'HDI', 'Continent'], dtype='object')"
      ]
     },
     "execution_count": 28,
     "metadata": {},
     "output_type": "execute_result"
    }
   ],
   "source": [
    "df.columns"
   ]
  },
  {
   "cell_type": "markdown",
   "id": "216243c7-76a3-4145-af5b-2e683158e550",
   "metadata": {},
   "source": [
    "**Accessing Pandas Dataframe indexes**"
   ]
  },
  {
   "cell_type": "code",
   "execution_count": 29,
   "id": "ef90c679",
   "metadata": {},
   "outputs": [
    {
     "data": {
      "text/plain": [
       "Index(['Canada', 'France', 'Germany', 'Italy', 'Japan', 'United Kingdom',\n",
       "       'United States'],\n",
       "      dtype='object')"
      ]
     },
     "execution_count": 29,
     "metadata": {},
     "output_type": "execute_result"
    }
   ],
   "source": [
    "df.index"
   ]
  },
  {
   "cell_type": "markdown",
   "id": "c8206b10-49b1-4b99-a1af-ff4d391e388e",
   "metadata": {},
   "source": [
    "### Useful attributes of Pandas Dataframe"
   ]
  },
  {
   "cell_type": "code",
   "execution_count": 30,
   "id": "60861c4b-570f-4475-812a-72779d095423",
   "metadata": {},
   "outputs": [
    {
     "name": "stdout",
     "output_type": "stream",
     "text": [
      "<class 'pandas.core.frame.DataFrame'>\n",
      "Index: 7 entries, Canada to United States\n",
      "Data columns (total 5 columns):\n",
      " #   Column        Non-Null Count  Dtype  \n",
      "---  ------        --------------  -----  \n",
      " 0   Population    7 non-null      float64\n",
      " 1   GDP           7 non-null      int64  \n",
      " 2   Surface Area  7 non-null      int64  \n",
      " 3   HDI           7 non-null      float64\n",
      " 4   Continent     7 non-null      object \n",
      "dtypes: float64(2), int64(2), object(1)\n",
      "memory usage: 336.0+ bytes\n"
     ]
    }
   ],
   "source": [
    "# Print a concise summary of a DataFrame.\n",
    "# This method prints information about a DataFrame including the index dtype and columns, non-null values and memory usage.\n",
    "df.info()"
   ]
  },
  {
   "cell_type": "code",
   "execution_count": 31,
   "id": "a707369f-623b-4875-a912-e2f922a4b574",
   "metadata": {},
   "outputs": [
    {
     "data": {
      "text/plain": [
       "35"
      ]
     },
     "execution_count": 31,
     "metadata": {},
     "output_type": "execute_result"
    }
   ],
   "source": [
    "# Return an int representing the number of elements in this object.\n",
    "# Return the number of rows if Series. Otherwise return the number of rows times number of columns if DataFrame.\n",
    "df.size"
   ]
  },
  {
   "cell_type": "code",
   "execution_count": 32,
   "id": "0c865fc0-df47-4be5-830a-962b96ba2adf",
   "metadata": {},
   "outputs": [
    {
     "data": {
      "text/plain": [
       "(7, 5)"
      ]
     },
     "execution_count": 32,
     "metadata": {},
     "output_type": "execute_result"
    }
   ],
   "source": [
    "# Return a tuple representing the dimensionality of the DataFrame.\n",
    "df.shape # i.e. 7 rows x 5 columns"
   ]
  },
  {
   "cell_type": "code",
   "execution_count": 33,
   "id": "e0def611-f41b-476f-a471-cbc305e90a6f",
   "metadata": {},
   "outputs": [
    {
     "data": {
      "text/html": [
       "<div>\n",
       "<style scoped>\n",
       "    .dataframe tbody tr th:only-of-type {\n",
       "        vertical-align: middle;\n",
       "    }\n",
       "\n",
       "    .dataframe tbody tr th {\n",
       "        vertical-align: top;\n",
       "    }\n",
       "\n",
       "    .dataframe thead th {\n",
       "        text-align: right;\n",
       "    }\n",
       "</style>\n",
       "<table border=\"1\" class=\"dataframe\">\n",
       "  <thead>\n",
       "    <tr style=\"text-align: right;\">\n",
       "      <th></th>\n",
       "      <th>Population</th>\n",
       "      <th>GDP</th>\n",
       "      <th>Surface Area</th>\n",
       "      <th>HDI</th>\n",
       "    </tr>\n",
       "  </thead>\n",
       "  <tbody>\n",
       "    <tr>\n",
       "      <th>count</th>\n",
       "      <td>7.000000</td>\n",
       "      <td>7.000000e+00</td>\n",
       "      <td>7.000000e+00</td>\n",
       "      <td>7.000000</td>\n",
       "    </tr>\n",
       "    <tr>\n",
       "      <th>mean</th>\n",
       "      <td>107.302571</td>\n",
       "      <td>5.080248e+06</td>\n",
       "      <td>3.061327e+06</td>\n",
       "      <td>0.900429</td>\n",
       "    </tr>\n",
       "    <tr>\n",
       "      <th>std</th>\n",
       "      <td>97.249970</td>\n",
       "      <td>5.494020e+06</td>\n",
       "      <td>4.576187e+06</td>\n",
       "      <td>0.016592</td>\n",
       "    </tr>\n",
       "    <tr>\n",
       "      <th>min</th>\n",
       "      <td>35.467000</td>\n",
       "      <td>1.785387e+06</td>\n",
       "      <td>2.424950e+05</td>\n",
       "      <td>0.873000</td>\n",
       "    </tr>\n",
       "    <tr>\n",
       "      <th>25%</th>\n",
       "      <td>62.308000</td>\n",
       "      <td>2.500716e+06</td>\n",
       "      <td>3.292250e+05</td>\n",
       "      <td>0.889500</td>\n",
       "    </tr>\n",
       "    <tr>\n",
       "      <th>50%</th>\n",
       "      <td>64.511000</td>\n",
       "      <td>2.950039e+06</td>\n",
       "      <td>3.779300e+05</td>\n",
       "      <td>0.907000</td>\n",
       "    </tr>\n",
       "    <tr>\n",
       "      <th>75%</th>\n",
       "      <td>104.000500</td>\n",
       "      <td>4.238402e+06</td>\n",
       "      <td>5.082873e+06</td>\n",
       "      <td>0.914000</td>\n",
       "    </tr>\n",
       "    <tr>\n",
       "      <th>max</th>\n",
       "      <td>318.523000</td>\n",
       "      <td>1.734808e+07</td>\n",
       "      <td>9.984670e+06</td>\n",
       "      <td>0.916000</td>\n",
       "    </tr>\n",
       "  </tbody>\n",
       "</table>\n",
       "</div>"
      ],
      "text/plain": [
       "       Population           GDP  Surface Area       HDI\n",
       "count    7.000000  7.000000e+00  7.000000e+00  7.000000\n",
       "mean   107.302571  5.080248e+06  3.061327e+06  0.900429\n",
       "std     97.249970  5.494020e+06  4.576187e+06  0.016592\n",
       "min     35.467000  1.785387e+06  2.424950e+05  0.873000\n",
       "25%     62.308000  2.500716e+06  3.292250e+05  0.889500\n",
       "50%     64.511000  2.950039e+06  3.779300e+05  0.907000\n",
       "75%    104.000500  4.238402e+06  5.082873e+06  0.914000\n",
       "max    318.523000  1.734808e+07  9.984670e+06  0.916000"
      ]
     },
     "execution_count": 33,
     "metadata": {},
     "output_type": "execute_result"
    }
   ],
   "source": [
    "# Generate descriptive statistics.\n",
    "# Descriptive statistics include those that summarize the central tendency, dispersion and shape of a dataset’s distribution, excluding NaN values.\n",
    "df.describe()"
   ]
  },
  {
   "cell_type": "code",
   "execution_count": 34,
   "id": "a6345217-e4de-4849-99a1-3e6000b5925d",
   "metadata": {},
   "outputs": [
    {
     "data": {
      "text/plain": [
       "Population      float64\n",
       "GDP               int64\n",
       "Surface Area      int64\n",
       "HDI             float64\n",
       "Continent        object\n",
       "dtype: object"
      ]
     },
     "execution_count": 34,
     "metadata": {},
     "output_type": "execute_result"
    }
   ],
   "source": [
    "# Return the dtypes in the DataFrame.\n",
    "# This returns a Series with the data type of each column. The result’s index is the original DataFrame’s columns. Columns with mixed types are stored with the object dtype.\n",
    "df.dtypes"
   ]
  },
  {
   "cell_type": "code",
   "execution_count": 35,
   "id": "14d55677-5141-46fa-9921-b01ffe0f04a5",
   "metadata": {},
   "outputs": [
    {
     "data": {
      "text/plain": [
       "float64    2\n",
       "int64      2\n",
       "object     1\n",
       "dtype: int64"
      ]
     },
     "execution_count": 35,
     "metadata": {},
     "output_type": "execute_result"
    }
   ],
   "source": [
    "# see how many of your value is of what datatype\n",
    "df.dtypes.value_counts()"
   ]
  },
  {
   "cell_type": "markdown",
   "id": "a5d3d034-c044-4c41-ab25-0ebe591acf98",
   "metadata": {},
   "source": [
    "### Accessing Values of Datafarme"
   ]
  },
  {
   "cell_type": "code",
   "execution_count": 36,
   "id": "a6b2a780-a8a8-4ef2-a98a-435b51680a95",
   "metadata": {},
   "outputs": [
    {
     "data": {
      "text/html": [
       "<div>\n",
       "<style scoped>\n",
       "    .dataframe tbody tr th:only-of-type {\n",
       "        vertical-align: middle;\n",
       "    }\n",
       "\n",
       "    .dataframe tbody tr th {\n",
       "        vertical-align: top;\n",
       "    }\n",
       "\n",
       "    .dataframe thead th {\n",
       "        text-align: right;\n",
       "    }\n",
       "</style>\n",
       "<table border=\"1\" class=\"dataframe\">\n",
       "  <thead>\n",
       "    <tr style=\"text-align: right;\">\n",
       "      <th></th>\n",
       "      <th>Population</th>\n",
       "      <th>GDP</th>\n",
       "      <th>Surface Area</th>\n",
       "      <th>HDI</th>\n",
       "      <th>Continent</th>\n",
       "    </tr>\n",
       "  </thead>\n",
       "  <tbody>\n",
       "    <tr>\n",
       "      <th>Canada</th>\n",
       "      <td>35.467</td>\n",
       "      <td>1785387</td>\n",
       "      <td>9984670</td>\n",
       "      <td>0.913</td>\n",
       "      <td>America</td>\n",
       "    </tr>\n",
       "    <tr>\n",
       "      <th>France</th>\n",
       "      <td>63.951</td>\n",
       "      <td>2833687</td>\n",
       "      <td>640679</td>\n",
       "      <td>0.888</td>\n",
       "      <td>Europe</td>\n",
       "    </tr>\n",
       "    <tr>\n",
       "      <th>Germany</th>\n",
       "      <td>80.940</td>\n",
       "      <td>3874437</td>\n",
       "      <td>357114</td>\n",
       "      <td>0.916</td>\n",
       "      <td>Europe</td>\n",
       "    </tr>\n",
       "    <tr>\n",
       "      <th>Italy</th>\n",
       "      <td>60.665</td>\n",
       "      <td>2167744</td>\n",
       "      <td>301336</td>\n",
       "      <td>0.873</td>\n",
       "      <td>Europe</td>\n",
       "    </tr>\n",
       "    <tr>\n",
       "      <th>Japan</th>\n",
       "      <td>127.061</td>\n",
       "      <td>4602367</td>\n",
       "      <td>377930</td>\n",
       "      <td>0.891</td>\n",
       "      <td>Asia</td>\n",
       "    </tr>\n",
       "    <tr>\n",
       "      <th>United Kingdom</th>\n",
       "      <td>64.511</td>\n",
       "      <td>2950039</td>\n",
       "      <td>242495</td>\n",
       "      <td>0.907</td>\n",
       "      <td>Europe</td>\n",
       "    </tr>\n",
       "    <tr>\n",
       "      <th>United States</th>\n",
       "      <td>318.523</td>\n",
       "      <td>17348075</td>\n",
       "      <td>9525067</td>\n",
       "      <td>0.915</td>\n",
       "      <td>America</td>\n",
       "    </tr>\n",
       "  </tbody>\n",
       "</table>\n",
       "</div>"
      ],
      "text/plain": [
       "                Population       GDP  Surface Area    HDI Continent\n",
       "Canada              35.467   1785387       9984670  0.913   America\n",
       "France              63.951   2833687        640679  0.888    Europe\n",
       "Germany             80.940   3874437        357114  0.916    Europe\n",
       "Italy               60.665   2167744        301336  0.873    Europe\n",
       "Japan              127.061   4602367        377930  0.891      Asia\n",
       "United Kingdom      64.511   2950039        242495  0.907    Europe\n",
       "United States      318.523  17348075       9525067  0.915   America"
      ]
     },
     "execution_count": 36,
     "metadata": {},
     "output_type": "execute_result"
    }
   ],
   "source": [
    "df"
   ]
  },
  {
   "cell_type": "markdown",
   "id": "651ec62e-4f7b-45f6-bd52-443044064da9",
   "metadata": {},
   "source": [
    "**Use the loc method to get <u>a single row</u> by index name**"
   ]
  },
  {
   "cell_type": "code",
   "execution_count": 40,
   "id": "fa489797-2262-4021-9f6c-3b90f8879a13",
   "metadata": {},
   "outputs": [
    {
     "data": {
      "text/plain": [
       "Population       35.467\n",
       "GDP             1785387\n",
       "Surface Area    9984670\n",
       "HDI               0.913\n",
       "Continent       America\n",
       "Name: Canada, dtype: object"
      ]
     },
     "execution_count": 40,
     "metadata": {},
     "output_type": "execute_result"
    }
   ],
   "source": [
    "# get row data for canada\n",
    "df.loc['Canada'] # return type is a Pandas series"
   ]
  },
  {
   "cell_type": "markdown",
   "id": "0a348c57-4804-46b4-9da1-e9a66b1ca407",
   "metadata": {},
   "source": [
    "**Use the iloc method to get <u>a single row</u> by sequential position**"
   ]
  },
  {
   "cell_type": "code",
   "execution_count": 42,
   "id": "7e41b9fe-3fb7-4f09-bd29-fa1e7d8c0a9e",
   "metadata": {},
   "outputs": [
    {
     "data": {
      "text/plain": [
       "Population        80.94\n",
       "GDP             3874437\n",
       "Surface Area     357114\n",
       "HDI               0.916\n",
       "Continent        Europe\n",
       "Name: Germany, dtype: object"
      ]
     },
     "execution_count": 45,
     "metadata": {},
     "output_type": "execute_result"
    }
   ],
   "source": [
    "# get row data for germany (which is at position 2)\n",
    "df.iloc[2] # return type is a Pandas series"
   ]
  },
  {
   "cell_type": "markdown",
   "id": "d4c90a25-9dce-4bb1-823e-564dfdbe0929",
   "metadata": {},
   "source": [
    "**Alternatively, you can get <u>a single column</u> by doing `df['Column Name']`**"
   ]
  },
  {
   "cell_type": "code",
   "execution_count": 46,
   "id": "1f58246a-cdc1-46bc-bf9a-9c46fabe72fb",
   "metadata": {},
   "outputs": [
    {
     "data": {
      "text/plain": [
       "Canada             35.467\n",
       "France             63.951\n",
       "Germany            80.940\n",
       "Italy              60.665\n",
       "Japan             127.061\n",
       "United Kingdom     64.511\n",
       "United States     318.523\n",
       "Name: Population, dtype: float64"
      ]
     },
     "execution_count": 46,
     "metadata": {},
     "output_type": "execute_result"
    }
   ],
   "source": [
    "df['Population'] # return type is a Pandas series"
   ]
  },
  {
   "cell_type": "markdown",
   "id": "f53fcc2c-b79c-4f4d-8502-0bf1d70110fa",
   "metadata": {},
   "source": [
    "## — End of Pandas Tutorial (didn't finish all the pandas practical because I don't need to, i ended around 2:23:33) —"
   ]
  },
  {
   "cell_type": "code",
   "execution_count": null,
   "id": "3564f450-c1cd-4d75-98f6-f75515da24d6",
   "metadata": {},
   "outputs": [],
   "source": []
  }
 ],
 "metadata": {
  "kernelspec": {
   "display_name": "Python 3 (ipykernel)",
   "language": "python",
   "name": "python3"
  },
  "language_info": {
   "codemirror_mode": {
    "name": "ipython",
    "version": 3
   },
   "file_extension": ".py",
   "mimetype": "text/x-python",
   "name": "python",
   "nbconvert_exporter": "python",
   "pygments_lexer": "ipython3",
   "version": "3.10.4"
  }
 },
 "nbformat": 4,
 "nbformat_minor": 5
}
